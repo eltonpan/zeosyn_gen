{
 "cells": [
  {
   "cell_type": "code",
   "execution_count": 1,
   "metadata": {},
   "outputs": [
    {
     "name": "stderr",
     "output_type": "stream",
     "text": [
      "/home/synthesisproject/anaconda3/envs/zeo_diffusion/lib/python3.10/site-packages/scipy/__init__.py:146: UserWarning: A NumPy version >=1.16.5 and <1.23.0 is required for this version of SciPy (detected version 1.23.1\n",
      "  warnings.warn(f\"A NumPy version >={np_minversion} and <{np_maxversion}\"\n"
     ]
    }
   ],
   "source": [
    "import numpy as np\n",
    "import pandas as pd\n",
    "import seaborn as sns\n",
    "import matplotlib.pyplot as plt"
   ]
  },
  {
   "cell_type": "code",
   "execution_count": 2,
   "metadata": {},
   "outputs": [],
   "source": [
    "def check_nans(df):\n",
    "    return f'Number of NaNs: {df.isna().sum()}'\n",
    "\n",
    "def check_infs(df):\n",
    "    return f'Number of Infs: {df.isin([np.inf, -np.inf]).sum()}'"
   ]
  },
  {
   "cell_type": "code",
   "execution_count": 3,
   "metadata": {},
   "outputs": [],
   "source": [
    "df = pd.read_excel('ZEOSYN.xlsx').drop(columns = ['Unnamed: 0'])\n",
    "df = df[~df['doi'].isna()] # keep only non-empty rows"
   ]
  },
  {
   "cell_type": "code",
   "execution_count": 4,
   "metadata": {},
   "outputs": [
    {
     "name": "stdout",
     "output_type": "stream",
     "text": [
      "High val: 400.00000000000006\n",
      "Number of NaNs: 0\n",
      "Number of Infs: 0\n"
     ]
    },
    {
     "data": {
      "text/plain": [
       "<Figure size 1080x504 with 0 Axes>"
      ]
     },
     "metadata": {},
     "output_type": "display_data"
    },
    {
     "data": {
      "image/png": "[encoded data removed]",
      "text/plain": [
       "<Figure size 360x360 with 1 Axes>"
      ]
     },
     "metadata": {
      "needs_background": "light"
     },
     "output_type": "display_data"
    }
   ],
   "source": [
    "# Si/Al ratio\n",
    "x, y = 'Si', 'Al'\n",
    "ratio = f\"{x}/{y}\"\n",
    "df[ratio] = df[x]/df[y]\n",
    "\n",
    "# Fix NaNs from 0.0/0.0\n",
    "idxs = df[df[ratio].isna()].index\n",
    "for idx in idxs:\n",
    "    df.loc[idx, ratio] = 0. # set to 0.0\n",
    "\n",
    "# Fix infs\n",
    "idxs = df[df[ratio] == np.inf].index # NaNs from 0.0/0.0\n",
    "high_val = np.quantile(df[(df[ratio] != np.inf) & (df[ratio] != 0.)][ratio], 0.98)\n",
    "print('High val:', high_val)\n",
    "for idx in idxs:\n",
    "    df.loc[idx, ratio] = high_val # set to about 400.0\n",
    "\n",
    "# Set upper limit\n",
    "idxs = df[df[ratio] >= high_val].index # High values\n",
    "for idx in idxs:\n",
    "    df.loc[idx, ratio] = high_val # set to about 400.0\n",
    "\n",
    "print(check_nans(df[ratio]))\n",
    "print(check_infs(df[ratio]))\n",
    "\n",
    "plt.figure(figsize=(15,7))\n",
    "sns.displot(df[ratio], bins=30) \n",
    "plt.show()"
   ]
  },
  {
   "cell_type": "code",
   "execution_count": 5,
   "metadata": {},
   "outputs": [
    {
     "name": "stdout",
     "output_type": "stream",
     "text": [
      "High val: 1.7179967159277212\n",
      "Number of NaNs: 0\n",
      "Number of Infs: 0\n"
     ]
    },
    {
     "data": {
      "text/plain": [
       "<Figure size 1080x504 with 0 Axes>"
      ]
     },
     "metadata": {},
     "output_type": "display_data"
    },
    {
     "data": {
      "image/png": "[encoded data removed]",
      "text/plain": [
       "<Figure size 360x360 with 1 Axes>"
      ]
     },
     "metadata": {
      "needs_background": "light"
     },
     "output_type": "display_data"
    }
   ],
   "source": [
    "# Al/P ratio\n",
    "x, y = 'Al', 'P'\n",
    "ratio = f\"{x}/{y}\"\n",
    "df[ratio] = df[x]/df[y]\n",
    "\n",
    "# Fix NaNs from 0.0/0.0\n",
    "idxs = df[df[ratio].isna()].index\n",
    "for idx in idxs:\n",
    "    df.loc[idx, ratio] = 0. # set to 0.0\n",
    "\n",
    "# Fix infs\n",
    "idxs = df[df[ratio] == np.inf].index # NaNs from 0.0/0.0\n",
    "high_val = np.quantile(df[(df[ratio] != np.inf) & (df[ratio] != 0.)][ratio], 0.99)\n",
    "print('High val:', high_val)\n",
    "for idx in idxs:\n",
    "    df.loc[idx, ratio] = high_val # set to about 1.7\n",
    "\n",
    "# Set upper limit\n",
    "idxs = df[df[ratio] >= high_val].index # High values\n",
    "for idx in idxs:\n",
    "    df.loc[idx, ratio] = high_val # set to about 1.7\n",
    "\n",
    "print(check_nans(df[ratio]))\n",
    "print(check_infs(df[ratio]))\n",
    "\n",
    "plt.figure(figsize=(15,7))\n",
    "sns.displot(df[ratio], bins=30) \n",
    "plt.show()"
   ]
  },
  {
   "cell_type": "code",
   "execution_count": 9,
   "metadata": {},
   "outputs": [
    {
     "name": "stdout",
     "output_type": "stream",
     "text": [
      "High val: 98.9999999999999\n",
      "Number of NaNs: 0\n",
      "Number of Infs: 0\n"
     ]
    },
    {
     "data": {
      "text/plain": [
       "<Figure size 1080x504 with 0 Axes>"
      ]
     },
     "metadata": {},
     "output_type": "display_data"
    },
    {
     "data": {
      "image/png": "[encoded data removed]",
      "text/plain": [
       "<Figure size 360x360 with 1 Axes>"
      ]
     },
     "metadata": {
      "needs_background": "light"
     },
     "output_type": "display_data"
    }
   ],
   "source": [
    "# Si/Ge ratio\n",
    "x, y = 'Si', 'Ge'\n",
    "ratio = f\"{x}/{y}\"\n",
    "df[ratio] = df[x]/df[y]\n",
    "\n",
    "# Fix NaNs from 0.0/0.0\n",
    "idxs = df[df[ratio].isna()].index\n",
    "for idx in idxs:\n",
    "    df.loc[idx, ratio] = 0. # set to 0.0\n",
    "\n",
    "# Fix infs\n",
    "idxs = df[df[ratio] == np.inf].index # NaNs from 0.0/0.0\n",
    "high_val = np.quantile(df[(df[ratio] != np.inf) & (df[ratio] != 0.)][ratio], 0.995)\n",
    "print('High val:', high_val)\n",
    "for idx in idxs:\n",
    "    df.loc[idx, ratio] = high_val # set to about 100.\n",
    "\n",
    "# Set upper limit\n",
    "idxs = df[df[ratio] >= high_val].index # High values\n",
    "for idx in idxs:\n",
    "    df.loc[idx, ratio] = high_val # set to about 100.\n",
    "\n",
    "print(check_nans(df[ratio]))\n",
    "print(check_infs(df[ratio]))\n",
    "\n",
    "plt.figure(figsize=(15,7))\n",
    "sns.displot(df[ratio], bins=30) \n",
    "plt.show()"
   ]
  }
 ],
 "metadata": {
  "kernelspec": {
   "display_name": "zeo_diffusion",
   "language": "python",
   "name": "zeo_diffusion"
  },
  "language_info": {
   "codemirror_mode": {
    "name": "ipython",
    "version": 3
   },
   "file_extension": ".py",
   "mimetype": "text/x-python",
   "name": "python",
   "nbconvert_exporter": "python",
   "pygments_lexer": "ipython3",
   "version": "3.10.4"
  }
 },
 "nbformat": 4,
 "nbformat_minor": 2
}
