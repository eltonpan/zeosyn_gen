{
 "cells": [
  {
   "cell_type": "code",
   "execution_count": 1,
   "metadata": {},
   "outputs": [
    {
     "name": "stderr",
     "output_type": "stream",
     "text": [
      "<frozen importlib._bootstrap>:241: RuntimeWarning: scipy._lib.messagestream.MessageStream size changed, may indicate binary incompatibility. Expected 56 from C header, got 64 from PyObject\n",
      "/home/synthesisproject/anaconda3/envs/zeo_diffusion/lib/python3.10/site-packages/tqdm/auto.py:22: TqdmWarning: IProgress not found. Please update jupyter and ipywidgets. See https://ipywidgets.readthedocs.io/en/stable/user_install.html\n",
      "  from .autonotebook import tqdm as notebook_tqdm\n"
     ]
    }
   ],
   "source": [
    "import pickle\n",
    "import os\n",
    "from sklearn.model_selection import train_test_split\n",
    "import numpy as np\n",
    "os.chdir('../data/')\n",
    "random_state = 0\n",
    "with open(f'../data/ZeoSynGen_dataset.pkl', 'rb') as f: # load dataset\n",
    "    dataset = pickle.load(f)"
   ]
  },
  {
   "cell_type": "markdown",
   "metadata": {},
   "source": [
    "# Random split"
   ]
  },
  {
   "cell_type": "code",
   "execution_count": 2,
   "metadata": {},
   "outputs": [
    {
     "name": "stdout",
     "output_type": "stream",
     "text": [
      "n_datapoints:\n",
      "train: 15416 val: 2203 test: 4405\n"
     ]
    }
   ],
   "source": [
    "_, _ ,_ = dataset.train_val_test_split(mode='random', both_graph_feat_present=True, random_state=random_state) # Note, here we filter out points with no graph/feature present for either zeolite and OSDA"
   ]
  },
  {
   "cell_type": "markdown",
   "metadata": {},
   "source": [
    "# System split"
   ]
  },
  {
   "cell_type": "code",
   "execution_count": 3,
   "metadata": {},
   "outputs": [
    {
     "name": "stdout",
     "output_type": "stream",
     "text": [
      "SYSTEMS:\n",
      "train: 1624 val: 232 test: 464\n",
      "\n",
      "n_datapoints:\n",
      "train: 14788 val: 2068 test: 5168\n"
     ]
    }
   ],
   "source": [
    "_, _ ,_ = dataset.train_val_test_split(mode='system', both_graph_feat_present=True, random_state=random_state) # Note, here we filter out points with no graph/feature present for either zeolite and OSDA"
   ]
  },
  {
   "cell_type": "markdown",
   "metadata": {},
   "source": [
    "# Temporal split"
   ]
  },
  {
   "cell_type": "code",
   "execution_count": 4,
   "metadata": {},
   "outputs": [
    {
     "name": "stdout",
     "output_type": "stream",
     "text": [
      "n_datapoints:\n",
      "train: 14440 val: 2063 test: 5266\n"
     ]
    }
   ],
   "source": [
    "_, _ ,_ = dataset.train_val_test_split(mode='temporal', year_cutoff=2015, both_graph_feat_present=True, random_state=random_state) # Note, here we filter out points with no graph/feature present for either zeolite and OSDA"
   ]
  }
 ],
 "metadata": {
  "kernelspec": {
   "display_name": "zeo_diffusion",
   "language": "python",
   "name": "zeo_diffusion"
  },
  "language_info": {
   "codemirror_mode": {
    "name": "ipython",
    "version": 3
   },
   "file_extension": ".py",
   "mimetype": "text/x-python",
   "name": "python",
   "nbconvert_exporter": "python",
   "pygments_lexer": "ipython3",
   "version": "3.10.4"
  }
 },
 "nbformat": 4,
 "nbformat_minor": 2
}
