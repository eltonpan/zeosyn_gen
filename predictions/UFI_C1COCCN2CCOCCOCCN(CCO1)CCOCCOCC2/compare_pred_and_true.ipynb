{
 "cells": [
  {
   "cell_type": "code",
   "execution_count": 19,
   "metadata": {},
   "outputs": [
    {
     "name": "stderr",
     "output_type": "stream",
     "text": [
      "/home/synthesisproject/anaconda3/envs/zeo_diffusion_metrics_eq/lib/python3.10/site-packages/scipy/__init__.py:146: UserWarning: A NumPy version >=1.16.5 and <1.23.0 is required for this version of SciPy (detected version 1.23.1\n",
      "  warnings.warn(f\"A NumPy version >={np_minversion} and <{np_maxversion}\"\n"
     ]
    }
   ],
   "source": [
    "import pandas as pd\n",
    "import matplotlib.pyplot as plt\n",
    "import seaborn as sns"
   ]
  },
  {
   "cell_type": "code",
   "execution_count": 2,
   "metadata": {},
   "outputs": [
    {
     "data": {
      "text/html": [
       "<div>\n",
       "<style scoped>\n",
       "    .dataframe tbody tr th:only-of-type {\n",
       "        vertical-align: middle;\n",
       "    }\n",
       "\n",
       "    .dataframe tbody tr th {\n",
       "        vertical-align: top;\n",
       "    }\n",
       "\n",
       "    .dataframe thead th {\n",
       "        text-align: right;\n",
       "    }\n",
       "</style>\n",
       "<table border=\"1\" class=\"dataframe\">\n",
       "  <thead>\n",
       "    <tr style=\"text-align: right;\">\n",
       "      <th></th>\n",
       "      <th>Si/Al</th>\n",
       "      <th>sda1/Si</th>\n",
       "      <th>Na/Si</th>\n",
       "      <th>K/Si</th>\n",
       "      <th>H2O/Si</th>\n",
       "      <th>cryst_temp</th>\n",
       "      <th>cryst_time</th>\n",
       "    </tr>\n",
       "  </thead>\n",
       "  <tbody>\n",
       "    <tr>\n",
       "      <th>0</th>\n",
       "      <td>10.0</td>\n",
       "      <td>0.15</td>\n",
       "      <td>0.2</td>\n",
       "      <td>0.0</td>\n",
       "      <td>15.0</td>\n",
       "      <td>175.0</td>\n",
       "      <td>168.0</td>\n",
       "    </tr>\n",
       "    <tr>\n",
       "      <th>1</th>\n",
       "      <td>14.3</td>\n",
       "      <td>0.15</td>\n",
       "      <td>0.2</td>\n",
       "      <td>0.0</td>\n",
       "      <td>15.0</td>\n",
       "      <td>175.0</td>\n",
       "      <td>168.0</td>\n",
       "    </tr>\n",
       "    <tr>\n",
       "      <th>2</th>\n",
       "      <td>10.0</td>\n",
       "      <td>0.35</td>\n",
       "      <td>0.3</td>\n",
       "      <td>0.0</td>\n",
       "      <td>15.0</td>\n",
       "      <td>175.0</td>\n",
       "      <td>168.0</td>\n",
       "    </tr>\n",
       "    <tr>\n",
       "      <th>3</th>\n",
       "      <td>10.0</td>\n",
       "      <td>0.10</td>\n",
       "      <td>0.2</td>\n",
       "      <td>0.0</td>\n",
       "      <td>15.0</td>\n",
       "      <td>175.0</td>\n",
       "      <td>168.0</td>\n",
       "    </tr>\n",
       "  </tbody>\n",
       "</table>\n",
       "</div>"
      ],
      "text/plain": [
       "   Si/Al  sda1/Si  Na/Si  K/Si  H2O/Si  cryst_temp  cryst_time\n",
       "0   10.0     0.15    0.2   0.0    15.0       175.0       168.0\n",
       "1   14.3     0.15    0.2   0.0    15.0       175.0       168.0\n",
       "2   10.0     0.35    0.3   0.0    15.0       175.0       168.0\n",
       "3   10.0     0.10    0.2   0.0    15.0       175.0       168.0"
      ]
     },
     "execution_count": 2,
     "metadata": {},
     "output_type": "execute_result"
    }
   ],
   "source": [
    "true = pd.DataFrame()\n",
    "true['Si/Al'] = [10., 14.3, 10., 10.]\n",
    "true['sda1/Si'] = [0.15, 0.15, 0.35, 0.1]\n",
    "true['Na/Si'] = [0.2, 0.2, 0.3, 0.2]\n",
    "true['K/Si'] = [0., 0., 0., 0.]\n",
    "true['H2O/Si'] = [15., 15., 15., 15.]\n",
    "true['cryst_temp'] = [175., 175., 175., 175.]\n",
    "true['cryst_time'] = [168., 168., 168., 168.]\n",
    "true"
   ]
  },
  {
   "cell_type": "code",
   "execution_count": 16,
   "metadata": {},
   "outputs": [
    {
     "data": {
      "text/html": [
       "<div>\n",
       "<style scoped>\n",
       "    .dataframe tbody tr th:only-of-type {\n",
       "        vertical-align: middle;\n",
       "    }\n",
       "\n",
       "    .dataframe tbody tr th {\n",
       "        vertical-align: top;\n",
       "    }\n",
       "\n",
       "    .dataframe thead th {\n",
       "        text-align: right;\n",
       "    }\n",
       "</style>\n",
       "<table border=\"1\" class=\"dataframe\">\n",
       "  <thead>\n",
       "    <tr style=\"text-align: right;\">\n",
       "      <th></th>\n",
       "      <th>Si/Al</th>\n",
       "      <th>Al/P</th>\n",
       "      <th>Si/Ge</th>\n",
       "      <th>Si/B</th>\n",
       "      <th>Na/T</th>\n",
       "      <th>K/T</th>\n",
       "      <th>OH/T</th>\n",
       "      <th>F/T</th>\n",
       "      <th>H2O/T</th>\n",
       "      <th>sda1/T</th>\n",
       "      <th>...</th>\n",
       "      <th>K</th>\n",
       "      <th>K/Si</th>\n",
       "      <th>OH</th>\n",
       "      <th>OH/Si</th>\n",
       "      <th>F</th>\n",
       "      <th>F/Si</th>\n",
       "      <th>H2O</th>\n",
       "      <th>H2O/Si</th>\n",
       "      <th>sda1</th>\n",
       "      <th>sda1/Si</th>\n",
       "    </tr>\n",
       "  </thead>\n",
       "  <tbody>\n",
       "    <tr>\n",
       "      <th>0</th>\n",
       "      <td>6.493506</td>\n",
       "      <td>1.717997</td>\n",
       "      <td>99.0</td>\n",
       "      <td>250.0</td>\n",
       "      <td>0.182112</td>\n",
       "      <td>0.022678</td>\n",
       "      <td>0.243520</td>\n",
       "      <td>0.0</td>\n",
       "      <td>14.705882</td>\n",
       "      <td>0.062500</td>\n",
       "      <td>...</td>\n",
       "      <td>0.026175</td>\n",
       "      <td>0.026175</td>\n",
       "      <td>0.281070</td>\n",
       "      <td>0.281070</td>\n",
       "      <td>0.0</td>\n",
       "      <td>0.0</td>\n",
       "      <td>16.973529</td>\n",
       "      <td>16.973529</td>\n",
       "      <td>0.072138</td>\n",
       "      <td>0.072138</td>\n",
       "    </tr>\n",
       "    <tr>\n",
       "      <th>5</th>\n",
       "      <td>7.783688</td>\n",
       "      <td>1.717997</td>\n",
       "      <td>99.0</td>\n",
       "      <td>250.0</td>\n",
       "      <td>0.200000</td>\n",
       "      <td>0.049615</td>\n",
       "      <td>0.199852</td>\n",
       "      <td>0.0</td>\n",
       "      <td>13.333333</td>\n",
       "      <td>0.041667</td>\n",
       "      <td>...</td>\n",
       "      <td>0.055999</td>\n",
       "      <td>0.055999</td>\n",
       "      <td>0.225568</td>\n",
       "      <td>0.225568</td>\n",
       "      <td>0.0</td>\n",
       "      <td>0.0</td>\n",
       "      <td>15.048984</td>\n",
       "      <td>15.048984</td>\n",
       "      <td>0.047029</td>\n",
       "      <td>0.047029</td>\n",
       "    </tr>\n",
       "    <tr>\n",
       "      <th>8</th>\n",
       "      <td>7.581384</td>\n",
       "      <td>1.717997</td>\n",
       "      <td>99.0</td>\n",
       "      <td>250.0</td>\n",
       "      <td>0.233551</td>\n",
       "      <td>0.000000</td>\n",
       "      <td>0.166667</td>\n",
       "      <td>0.0</td>\n",
       "      <td>16.169056</td>\n",
       "      <td>0.080440</td>\n",
       "      <td>...</td>\n",
       "      <td>0.000000</td>\n",
       "      <td>0.000000</td>\n",
       "      <td>0.188684</td>\n",
       "      <td>0.188684</td>\n",
       "      <td>0.0</td>\n",
       "      <td>0.0</td>\n",
       "      <td>18.305021</td>\n",
       "      <td>18.305021</td>\n",
       "      <td>0.091067</td>\n",
       "      <td>0.091067</td>\n",
       "    </tr>\n",
       "    <tr>\n",
       "      <th>9</th>\n",
       "      <td>6.493506</td>\n",
       "      <td>1.717997</td>\n",
       "      <td>99.0</td>\n",
       "      <td>250.0</td>\n",
       "      <td>0.230288</td>\n",
       "      <td>0.000000</td>\n",
       "      <td>0.250000</td>\n",
       "      <td>0.0</td>\n",
       "      <td>12.500000</td>\n",
       "      <td>0.072178</td>\n",
       "      <td>...</td>\n",
       "      <td>0.000000</td>\n",
       "      <td>0.000000</td>\n",
       "      <td>0.288550</td>\n",
       "      <td>0.288550</td>\n",
       "      <td>0.0</td>\n",
       "      <td>0.0</td>\n",
       "      <td>14.427500</td>\n",
       "      <td>14.427500</td>\n",
       "      <td>0.083308</td>\n",
       "      <td>0.083308</td>\n",
       "    </tr>\n",
       "    <tr>\n",
       "      <th>10</th>\n",
       "      <td>6.515651</td>\n",
       "      <td>1.717997</td>\n",
       "      <td>99.0</td>\n",
       "      <td>250.0</td>\n",
       "      <td>0.344796</td>\n",
       "      <td>0.000000</td>\n",
       "      <td>0.052608</td>\n",
       "      <td>0.0</td>\n",
       "      <td>12.500000</td>\n",
       "      <td>0.050000</td>\n",
       "      <td>...</td>\n",
       "      <td>0.000000</td>\n",
       "      <td>0.000000</td>\n",
       "      <td>0.060693</td>\n",
       "      <td>0.060693</td>\n",
       "      <td>0.0</td>\n",
       "      <td>0.0</td>\n",
       "      <td>14.420958</td>\n",
       "      <td>14.420958</td>\n",
       "      <td>0.057684</td>\n",
       "      <td>0.057684</td>\n",
       "    </tr>\n",
       "    <tr>\n",
       "      <th>...</th>\n",
       "      <td>...</td>\n",
       "      <td>...</td>\n",
       "      <td>...</td>\n",
       "      <td>...</td>\n",
       "      <td>...</td>\n",
       "      <td>...</td>\n",
       "      <td>...</td>\n",
       "      <td>...</td>\n",
       "      <td>...</td>\n",
       "      <td>...</td>\n",
       "      <td>...</td>\n",
       "      <td>...</td>\n",
       "      <td>...</td>\n",
       "      <td>...</td>\n",
       "      <td>...</td>\n",
       "      <td>...</td>\n",
       "      <td>...</td>\n",
       "      <td>...</td>\n",
       "      <td>...</td>\n",
       "      <td>...</td>\n",
       "      <td>...</td>\n",
       "    </tr>\n",
       "    <tr>\n",
       "      <th>992</th>\n",
       "      <td>7.109064</td>\n",
       "      <td>1.717997</td>\n",
       "      <td>99.0</td>\n",
       "      <td>250.0</td>\n",
       "      <td>0.330965</td>\n",
       "      <td>0.000000</td>\n",
       "      <td>0.000000</td>\n",
       "      <td>0.0</td>\n",
       "      <td>12.493381</td>\n",
       "      <td>0.050000</td>\n",
       "      <td>...</td>\n",
       "      <td>0.000000</td>\n",
       "      <td>0.000000</td>\n",
       "      <td>0.000000</td>\n",
       "      <td>0.000000</td>\n",
       "      <td>0.0</td>\n",
       "      <td>0.0</td>\n",
       "      <td>14.253268</td>\n",
       "      <td>14.253268</td>\n",
       "      <td>0.057043</td>\n",
       "      <td>0.057043</td>\n",
       "    </tr>\n",
       "    <tr>\n",
       "      <th>995</th>\n",
       "      <td>6.493506</td>\n",
       "      <td>1.717997</td>\n",
       "      <td>99.0</td>\n",
       "      <td>250.0</td>\n",
       "      <td>0.287107</td>\n",
       "      <td>0.000000</td>\n",
       "      <td>0.196073</td>\n",
       "      <td>0.0</td>\n",
       "      <td>12.243384</td>\n",
       "      <td>0.083333</td>\n",
       "      <td>...</td>\n",
       "      <td>0.000000</td>\n",
       "      <td>0.000000</td>\n",
       "      <td>0.226307</td>\n",
       "      <td>0.226307</td>\n",
       "      <td>0.0</td>\n",
       "      <td>0.0</td>\n",
       "      <td>14.131314</td>\n",
       "      <td>14.131314</td>\n",
       "      <td>0.096183</td>\n",
       "      <td>0.096183</td>\n",
       "    </tr>\n",
       "    <tr>\n",
       "      <th>996</th>\n",
       "      <td>6.600000</td>\n",
       "      <td>1.717997</td>\n",
       "      <td>99.0</td>\n",
       "      <td>250.0</td>\n",
       "      <td>0.282658</td>\n",
       "      <td>0.000000</td>\n",
       "      <td>0.250000</td>\n",
       "      <td>0.0</td>\n",
       "      <td>13.031354</td>\n",
       "      <td>0.075000</td>\n",
       "      <td>...</td>\n",
       "      <td>0.000000</td>\n",
       "      <td>0.000000</td>\n",
       "      <td>0.287929</td>\n",
       "      <td>0.287929</td>\n",
       "      <td>0.0</td>\n",
       "      <td>0.0</td>\n",
       "      <td>15.008408</td>\n",
       "      <td>15.008408</td>\n",
       "      <td>0.086379</td>\n",
       "      <td>0.086379</td>\n",
       "    </tr>\n",
       "    <tr>\n",
       "      <th>998</th>\n",
       "      <td>6.600000</td>\n",
       "      <td>1.717997</td>\n",
       "      <td>99.0</td>\n",
       "      <td>250.0</td>\n",
       "      <td>0.296503</td>\n",
       "      <td>0.000000</td>\n",
       "      <td>0.149999</td>\n",
       "      <td>0.0</td>\n",
       "      <td>12.991538</td>\n",
       "      <td>0.064502</td>\n",
       "      <td>...</td>\n",
       "      <td>0.000000</td>\n",
       "      <td>0.000000</td>\n",
       "      <td>0.172756</td>\n",
       "      <td>0.172756</td>\n",
       "      <td>0.0</td>\n",
       "      <td>0.0</td>\n",
       "      <td>14.962551</td>\n",
       "      <td>14.962551</td>\n",
       "      <td>0.074288</td>\n",
       "      <td>0.074288</td>\n",
       "    </tr>\n",
       "    <tr>\n",
       "      <th>999</th>\n",
       "      <td>7.500000</td>\n",
       "      <td>1.717997</td>\n",
       "      <td>99.0</td>\n",
       "      <td>250.0</td>\n",
       "      <td>0.291248</td>\n",
       "      <td>0.000000</td>\n",
       "      <td>0.187829</td>\n",
       "      <td>0.0</td>\n",
       "      <td>11.261649</td>\n",
       "      <td>0.050000</td>\n",
       "      <td>...</td>\n",
       "      <td>0.000000</td>\n",
       "      <td>0.000000</td>\n",
       "      <td>0.212911</td>\n",
       "      <td>0.212911</td>\n",
       "      <td>0.0</td>\n",
       "      <td>0.0</td>\n",
       "      <td>12.765455</td>\n",
       "      <td>12.765455</td>\n",
       "      <td>0.056677</td>\n",
       "      <td>0.056677</td>\n",
       "    </tr>\n",
       "  </tbody>\n",
       "</table>\n",
       "<p>390 rows × 31 columns</p>\n",
       "</div>"
      ],
      "text/plain": [
       "        Si/Al      Al/P  Si/Ge   Si/B      Na/T       K/T      OH/T  F/T  \\\n",
       "0    6.493506  1.717997   99.0  250.0  0.182112  0.022678  0.243520  0.0   \n",
       "5    7.783688  1.717997   99.0  250.0  0.200000  0.049615  0.199852  0.0   \n",
       "8    7.581384  1.717997   99.0  250.0  0.233551  0.000000  0.166667  0.0   \n",
       "9    6.493506  1.717997   99.0  250.0  0.230288  0.000000  0.250000  0.0   \n",
       "10   6.515651  1.717997   99.0  250.0  0.344796  0.000000  0.052608  0.0   \n",
       "..        ...       ...    ...    ...       ...       ...       ...  ...   \n",
       "992  7.109064  1.717997   99.0  250.0  0.330965  0.000000  0.000000  0.0   \n",
       "995  6.493506  1.717997   99.0  250.0  0.287107  0.000000  0.196073  0.0   \n",
       "996  6.600000  1.717997   99.0  250.0  0.282658  0.000000  0.250000  0.0   \n",
       "998  6.600000  1.717997   99.0  250.0  0.296503  0.000000  0.149999  0.0   \n",
       "999  7.500000  1.717997   99.0  250.0  0.291248  0.000000  0.187829  0.0   \n",
       "\n",
       "         H2O/T    sda1/T  ...         K      K/Si        OH     OH/Si    F  \\\n",
       "0    14.705882  0.062500  ...  0.026175  0.026175  0.281070  0.281070  0.0   \n",
       "5    13.333333  0.041667  ...  0.055999  0.055999  0.225568  0.225568  0.0   \n",
       "8    16.169056  0.080440  ...  0.000000  0.000000  0.188684  0.188684  0.0   \n",
       "9    12.500000  0.072178  ...  0.000000  0.000000  0.288550  0.288550  0.0   \n",
       "10   12.500000  0.050000  ...  0.000000  0.000000  0.060693  0.060693  0.0   \n",
       "..         ...       ...  ...       ...       ...       ...       ...  ...   \n",
       "992  12.493381  0.050000  ...  0.000000  0.000000  0.000000  0.000000  0.0   \n",
       "995  12.243384  0.083333  ...  0.000000  0.000000  0.226307  0.226307  0.0   \n",
       "996  13.031354  0.075000  ...  0.000000  0.000000  0.287929  0.287929  0.0   \n",
       "998  12.991538  0.064502  ...  0.000000  0.000000  0.172756  0.172756  0.0   \n",
       "999  11.261649  0.050000  ...  0.000000  0.000000  0.212911  0.212911  0.0   \n",
       "\n",
       "     F/Si        H2O     H2O/Si      sda1   sda1/Si  \n",
       "0     0.0  16.973529  16.973529  0.072138  0.072138  \n",
       "5     0.0  15.048984  15.048984  0.047029  0.047029  \n",
       "8     0.0  18.305021  18.305021  0.091067  0.091067  \n",
       "9     0.0  14.427500  14.427500  0.083308  0.083308  \n",
       "10    0.0  14.420958  14.420958  0.057684  0.057684  \n",
       "..    ...        ...        ...       ...       ...  \n",
       "992   0.0  14.253268  14.253268  0.057043  0.057043  \n",
       "995   0.0  14.131314  14.131314  0.096183  0.096183  \n",
       "996   0.0  15.008408  15.008408  0.086379  0.086379  \n",
       "998   0.0  14.962551  14.962551  0.074288  0.074288  \n",
       "999   0.0  12.765455  12.765455  0.056677  0.056677  \n",
       "\n",
       "[390 rows x 31 columns]"
      ]
     },
     "execution_count": 16,
     "metadata": {},
     "output_type": "execute_result"
    }
   ],
   "source": [
    "pred = pd.read_csv('syn_pred.csv')\n",
    "pred = pred[pred['Si/Al'] > 0]\n",
    "\n",
    "# Preprocess to unnormalized molar ratios\n",
    "hets = ['Al', 'Ge', 'B']\n",
    "thresholds = [0.00251, 0.099990, 0.004001]\n",
    "for het, thres in zip(hets, thresholds):\n",
    "\n",
    "    pred[f'{het}/Si'] = 1. / pred[f'Si/{het}']\n",
    "    pred[f'{het}/Si'] = pred[f'{het}/Si'].map(lambda x: 1e-4 if x <= thres else x)\n",
    "    pred[f'{het}'] = pred[f'{het}/Si']\n",
    "    pred['Si'] = [1.]*len(pred)\n",
    "\n",
    "tot_hets = pred[['Si']+hets].sum(1) # sum of heteroatoms fractions\n",
    "\n",
    "for c in ['Na', 'K', 'OH', 'F', 'H2O', 'sda1']:\n",
    "    pred[f'{c}'] = pred[f'{c}/T'] * tot_hets\n",
    "    pred[f'{c}/Si'] = pred[f'{c}'] / pred['Si']\n",
    "\n",
    "pred"
   ]
  },
  {
   "cell_type": "code",
   "execution_count": 83,
   "metadata": {},
   "outputs": [
    {
     "data": {
      "image/png": "[encoded data removed]",
      "text/plain": [
       "<Figure size 1600x800 with 7 Axes>"
      ]
     },
     "metadata": {
      "needs_background": "light"
     },
     "output_type": "display_data"
    }
   ],
   "source": [
    "# Si/Al\n",
    "col2spec = {'Si/Al': {'xlim': (0, 20)},\n",
    "            'sda1/Si': {'xlim': (0, 0.75)},\n",
    "            'Na/Si': {'xlim': (0, 1)},\n",
    "            'K/Si': {'xlim': (0, 0.5)},\n",
    "            'H2O/Si': {'xlim': (0, 100)},\n",
    "            'cryst_temp': {'xlim': (80, 200)},\n",
    "            'cryst_time': {'xlim': (0, 1000)},\n",
    "            }\n",
    "\n",
    "fig = plt.figure(figsize=(8, 4), dpi=200)\n",
    "\n",
    "for i, col in enumerate(col2spec.keys()):\n",
    "    ax = fig.add_subplot(2, 4, i+1)\n",
    "    plot = sns.histplot(pred[col], color='tab:orange', label='Generated', \n",
    "                 binrange=col2spec[col]['xlim'], bins=25,\n",
    "                 stat='density',\n",
    "                #  kde=True, kde_kws={'bw_adjust': 0.5}\n",
    "                 )\n",
    "    ylim = plot.get_ylim()\n",
    "    for v in true[col]:\n",
    "        plt.plot([v, v], [0, 0.2 * ylim[-1]], color='tab:blue', linewidth=3, label='Experimental',\n",
    "                 alpha=0.5\n",
    "                 )\n",
    "    plt.xlim(*col2spec[col]['xlim'])\n",
    "# plt.legend()\n",
    "\n",
    "plt.tight_layout()\n",
    "plt.show()"
   ]
  },
  {
   "cell_type": "code",
   "execution_count": 28,
   "metadata": {},
   "outputs": [
    {
     "data": {
      "text/plain": [
       "<Figure size 864x432 with 0 Axes>"
      ]
     },
     "metadata": {},
     "output_type": "display_data"
    },
    {
     "data": {
      "image/png": "[encoded data removed]",
      "text/plain": [
       "<Figure size 360x360 with 1 Axes>"
      ]
     },
     "metadata": {
      "needs_background": "light"
     },
     "output_type": "display_data"
    }
   ],
   "source": [
    "# sda1/Si\n",
    "fig = plt.figure(figsize=(12, 6))\n",
    "sns.displot(pred['sda1/Si'], color='tab:orange', label='Generated')\n",
    "for v in true['sda1/Si']:\n",
    "    plt.plot([v, v], [0, 10], color='tab:blue', linewidth=3, label='Experimental')\n",
    "plt.xlim(0,1)\n",
    "plt.legend()\n",
    "plt.show()"
   ]
  },
  {
   "cell_type": "code",
   "execution_count": 29,
   "metadata": {},
   "outputs": [
    {
     "data": {
      "text/plain": [
       "<Figure size 864x432 with 0 Axes>"
      ]
     },
     "metadata": {},
     "output_type": "display_data"
    },
    {
     "data": {
      "image/png": "[encoded data removed]",
      "text/plain": [
       "<Figure size 360x360 with 1 Axes>"
      ]
     },
     "metadata": {
      "needs_background": "light"
     },
     "output_type": "display_data"
    }
   ],
   "source": [
    "# Na/Si\n",
    "fig = plt.figure(figsize=(12, 6))\n",
    "sns.displot(pred['Na/Si'], color='tab:orange', label='Generated')\n",
    "for v in true['Na/Si']:\n",
    "    plt.plot([v, v], [0, 10], color='tab:blue', linewidth=3, label='Experimental')\n",
    "plt.xlim(0,1)\n",
    "plt.legend()\n",
    "plt.show()"
   ]
  },
  {
   "cell_type": "code",
   "execution_count": 30,
   "metadata": {},
   "outputs": [
    {
     "data": {
      "text/plain": [
       "<Figure size 864x432 with 0 Axes>"
      ]
     },
     "metadata": {},
     "output_type": "display_data"
    },
    {
     "data": {
      "image/png": "[encoded data removed]",
      "text/plain": [
       "<Figure size 360x360 with 1 Axes>"
      ]
     },
     "metadata": {
      "needs_background": "light"
     },
     "output_type": "display_data"
    }
   ],
   "source": [
    "# K/Si\n",
    "fig = plt.figure(figsize=(12, 6))\n",
    "sns.displot(pred['K/Si'], color='tab:orange', label='Generated')\n",
    "for v in true['K/Si']:\n",
    "    plt.plot([v, v], [0, 10], color='tab:blue', linewidth=3, label='Experimental')\n",
    "plt.xlim(0,1)\n",
    "plt.legend()\n",
    "plt.show()"
   ]
  },
  {
   "cell_type": "code",
   "execution_count": 32,
   "metadata": {},
   "outputs": [
    {
     "data": {
      "text/plain": [
       "<Figure size 864x432 with 0 Axes>"
      ]
     },
     "metadata": {},
     "output_type": "display_data"
    },
    {
     "data": {
      "image/png": "[encoded data removed]",
      "text/plain": [
       "<Figure size 360x360 with 1 Axes>"
      ]
     },
     "metadata": {
      "needs_background": "light"
     },
     "output_type": "display_data"
    }
   ],
   "source": [
    "# H2O/Si\n",
    "fig = plt.figure(figsize=(12, 6))\n",
    "sns.displot(pred['H2O/Si'], color='tab:orange', label='Generated')\n",
    "for v in true['H2O/Si']:\n",
    "    plt.plot([v, v], [0, 10], color='tab:blue', linewidth=3, label='Experimental')\n",
    "plt.xlim(0,100)\n",
    "plt.legend()\n",
    "plt.show()"
   ]
  },
  {
   "cell_type": "code",
   "execution_count": 33,
   "metadata": {},
   "outputs": [
    {
     "data": {
      "text/plain": [
       "<Figure size 864x432 with 0 Axes>"
      ]
     },
     "metadata": {},
     "output_type": "display_data"
    },
    {
     "data": {
      "image/png": "[encoded data removed]",
      "text/plain": [
       "<Figure size 360x360 with 1 Axes>"
      ]
     },
     "metadata": {
      "needs_background": "light"
     },
     "output_type": "display_data"
    }
   ],
   "source": [
    "# cryst_temp\n",
    "fig = plt.figure(figsize=(12, 6))\n",
    "sns.displot(pred['cryst_temp'], color='tab:orange', label='Generated')\n",
    "for v in true['cryst_temp']:\n",
    "    plt.plot([v, v], [0, 10], color='tab:blue', linewidth=3, label='Experimental')\n",
    "plt.xlim(100,200)\n",
    "plt.legend()\n",
    "plt.show()"
   ]
  },
  {
   "cell_type": "code",
   "execution_count": 35,
   "metadata": {},
   "outputs": [
    {
     "data": {
      "text/plain": [
       "<Figure size 864x432 with 0 Axes>"
      ]
     },
     "metadata": {},
     "output_type": "display_data"
    },
    {
     "data": {
      "image/png": "[encoded data removed]",
      "text/plain": [
       "<Figure size 360x360 with 1 Axes>"
      ]
     },
     "metadata": {
      "needs_background": "light"
     },
     "output_type": "display_data"
    }
   ],
   "source": [
    "# cryst_time\n",
    "fig = plt.figure(figsize=(12, 6))\n",
    "sns.displot(pred['cryst_time'], color='tab:orange', label='Generated')\n",
    "for v in true['cryst_time']:\n",
    "    plt.plot([v, v], [0, 10], color='tab:blue', linewidth=3, label='Experimental')\n",
    "plt.xlim(0,1000)\n",
    "plt.legend()\n",
    "plt.show()"
   ]
  }
 ],
 "metadata": {
  "kernelspec": {
   "display_name": "zeo_diffusion_metrics_eq",
   "language": "python",
   "name": "python3"
  },
  "language_info": {
   "codemirror_mode": {
    "name": "ipython",
    "version": 3
   },
   "file_extension": ".py",
   "mimetype": "text/x-python",
   "name": "python",
   "nbconvert_exporter": "python",
   "pygments_lexer": "ipython3",
   "version": "3.10.4"
  }
 },
 "nbformat": 4,
 "nbformat_minor": 2
}
