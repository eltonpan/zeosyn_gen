{
 "cells": [
  {
   "cell_type": "code",
   "execution_count": 1,
   "metadata": {},
   "outputs": [
    {
     "name": "stdout",
     "output_type": "stream",
     "text": [
      "Switched directory to: /home/jupyter/Elton/Zeolites/zeosyn_gen\n"
     ]
    },
    {
     "name": "stderr",
     "output_type": "stream",
     "text": [
      "/home/synthesisproject/anaconda3/envs/zeo_diffusion_metrics/lib/python3.10/site-packages/tqdm/auto.py:22: TqdmWarning: IProgress not found. Please update jupyter and ipywidgets. See https://ipywidgets.readthedocs.io/en/stable/user_install.html\n",
      "  from .autonotebook import tqdm as notebook_tqdm\n",
      "/home/synthesisproject/anaconda3/envs/zeo_diffusion_metrics/lib/python3.10/site-packages/scipy/__init__.py:146: UserWarning: A NumPy version >=1.16.5 and <1.23.0 is required for this version of SciPy (detected version 1.23.1\n",
      "  warnings.warn(f\"A NumPy version >={np_minversion} and <{np_maxversion}\"\n"
     ]
    }
   ],
   "source": [
    "import os\n",
    "import sys\n",
    "import json\n",
    "import pickle\n",
    "import matplotlib.pyplot as plt\n",
    "import pandas as pd\n",
    "\n",
    "# Switch to parent path to import local module\n",
    "parent_path = str(os.getcwd()).split('notebooks')[0] # zeosyn_gen\n",
    "os.chdir(parent_path)\n",
    "print('Switched directory to:', os.getcwd())\n",
    "\n",
    "import torch\n",
    "import data.utils as utils\n",
    "sys.modules['utils'] = utils # Way to get around relative imports in utils for ZeoSynGen_dataset # https://stackoverflow.com/questions/2121874/python-pickling-after-changing-a-modules-directory\n",
    "from eval import load_model, get_prediction_and_ground_truths, eval_zeolite_aggregated, eval_zeolite_osda, eval_single_system, get_metric_dataframes\n",
    "from data.metrics import maximum_mean_discrepancy, wasserstein_distance\n",
    "from models.diffusion import *"
   ]
  },
  {
   "cell_type": "code",
   "execution_count": 2,
   "metadata": {},
   "outputs": [],
   "source": [
    "model_type = 'diff'\n",
    "fname = 'v2'\n",
    "split = 'system'"
   ]
  },
  {
   "cell_type": "code",
   "execution_count": 3,
   "metadata": {},
   "outputs": [],
   "source": [
    "def eval_diff(model_type, fname, split, cond_scale):   \n",
    "    # Load configs\n",
    "    with open(f'runs/{model_type}/{split}/{fname}/configs.json') as f:\n",
    "        configs = json.load(f)\n",
    "    with open(f\"runs/{model_type}/{split}/{fname}/train_loss_list.pkl\", 'rb') as f: # load dataset\n",
    "        train_loss_list = pickle.load(f)\n",
    "    with open(f\"runs/{model_type}/{split}/{fname}/val_loss_list.pkl\", 'rb') as f: # load dataset\n",
    "        val_loss_list = pickle.load(f)\n",
    "\n",
    "    model, configs = load_model(model_type, fname, split)\n",
    "    syn_pred, syn_pred_scaled, syn_true, syn_true_scaled, dataset = get_prediction_and_ground_truths(model, configs, cond_scale=cond_scale)\n",
    "\n",
    "    mmd_zeo_agg_df, wsd_zeo_agg_df = eval_zeolite_aggregated(syn_pred, syn_pred_scaled, syn_true, syn_true_scaled, dataset, configs)\n",
    "    mmd_zeo_osda_df, wsd_zeo_osda_df = eval_zeolite_osda(syn_pred, syn_pred_scaled, syn_true, syn_true_scaled, dataset, configs)"
   ]
  },
  {
   "cell_type": "code",
   "execution_count": 4,
   "metadata": {},
   "outputs": [
    {
     "name": "stdout",
     "output_type": "stream",
     "text": [
      "cond_scale:  0.75\n",
      "Loading model and configs...\n",
      "Getting model predictions and grouth truths...\n",
      "SYSTEMS:\n",
      "train+val: 1856 test: 464\n",
      "\n",
      "n_datapoints:\n",
      "train: 14749 val: 2107 test: 5168\n",
      "Loading synthetic predictions from saved predictions...\n",
      "Calculating metrics for zeolite-aggregated systems...\n",
      "Mean MMD: 1.6142277946838965\n",
      "Mean WSD: 0.5239517722854049\n",
      "Calculating metrics for zeolite-OSDA systems...\n",
      "Mean MMD: 1.9497980212652555\n",
      "Mean WSD: 0.4894656485095479\n",
      "\n",
      "cond_scale:  1\n",
      "Loading model and configs...\n",
      "Getting model predictions and grouth truths...\n",
      "SYSTEMS:\n",
      "train+val: 1856 test: 464\n",
      "\n",
      "n_datapoints:\n",
      "train: 14749 val: 2107 test: 5168\n",
      "Loading synthetic predictions from saved predictions...\n",
      "Calculating metrics for zeolite-aggregated systems...\n",
      "Mean MMD: 1.7617650215442364\n",
      "Mean WSD: 0.5149444227115215\n",
      "Calculating metrics for zeolite-OSDA systems...\n",
      "Mean MMD: 2.042940849898964\n",
      "Mean WSD: 0.46391971207263494\n",
      "\n",
      "cond_scale:  1.25\n",
      "Loading model and configs...\n",
      "Getting model predictions and grouth truths...\n",
      "SYSTEMS:\n",
      "train+val: 1856 test: 464\n",
      "\n",
      "n_datapoints:\n",
      "train: 14749 val: 2107 test: 5168\n",
      "Loading synthetic predictions from saved predictions...\n",
      "Calculating metrics for zeolite-aggregated systems...\n",
      "Mean MMD: 1.8155147387431219\n",
      "Mean WSD: 0.5132845016765203\n",
      "Calculating metrics for zeolite-OSDA systems...\n",
      "Mean MMD: 2.1036426277570826\n",
      "Mean WSD: 0.4613834220544075\n",
      "\n"
     ]
    }
   ],
   "source": [
    "# Vary cond_scale given fixed model\n",
    "for cond_scale in [0.75, 1, 1.25]:\n",
    "    print('cond_scale: ', cond_scale)\n",
    "    eval_diff(model_type, fname, split, cond_scale=cond_scale)\n",
    "    print()"
   ]
  }
 ],
 "metadata": {
  "kernelspec": {
   "display_name": "zeo_diffusion",
   "language": "python",
   "name": "python3"
  },
  "language_info": {
   "codemirror_mode": {
    "name": "ipython",
    "version": 3
   },
   "file_extension": ".py",
   "mimetype": "text/x-python",
   "name": "python",
   "nbconvert_exporter": "python",
   "pygments_lexer": "ipython3",
   "version": "3.10.4"
  }
 },
 "nbformat": 4,
 "nbformat_minor": 2
}
